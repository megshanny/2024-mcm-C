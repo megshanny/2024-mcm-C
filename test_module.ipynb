{
 "cells": [
  {
   "cell_type": "code",
   "execution_count": 4,
   "metadata": {},
   "outputs": [],
   "source": [
    "import numpy as np\n",
    "import pandas as pd\n",
    "import matplotlib.pyplot as plt\n",
    "import MCM"
   ]
  },
  {
   "cell_type": "code",
   "execution_count": 2,
   "metadata": {},
   "outputs": [],
   "source": [
    "#可以在MCM.py中修改文件存储路径\n",
    "df = pd.DataFrame(np.random.randn(10, 4), columns=list('ABCD'))\n",
    "Serie = pd.Series(['one', 'one', 'two', 'three', 'four', 'three', 'four', 'one', 'two', 'three'])\n",
    "array = np.array([1, 2, 3, 4, 5, 6, 7, 8, 9, 10])\n",
    "intenger = 10\n",
    "float_number = 10.0\n",
    "string = \"Hello World\"\n",
    "boolean = True\n",
    "MCM.save({'df': df, 'Serie': Serie, 'array': array, 'intenger': intenger, 'float_number': float_number, 'string': string, 'boolean': boolean},\n",
    "         file_name='test') #传入保存的参数（字典格式，不需要对numpy和pandas数据类型特别处理）和文件名（可选，不需要后缀）"
   ]
  },
  {
   "cell_type": "code",
   "execution_count": 3,
   "metadata": {},
   "outputs": [
    {
     "ename": "KeyError",
     "evalue": "'df'",
     "output_type": "error",
     "traceback": [
      "\u001b[1;31m---------------------------------------------------------------------------\u001b[0m",
      "\u001b[1;31mKeyError\u001b[0m                                  Traceback (most recent call last)",
      "Cell \u001b[1;32mIn[3], line 5\u001b[0m\n\u001b[0;32m      3\u001b[0m warnings\u001b[38;5;241m.\u001b[39mwarn(\u001b[38;5;124m\"\u001b[39m\u001b[38;5;124mWarning\u001b[39m\u001b[38;5;124m\"\u001b[39m)\n\u001b[0;32m      4\u001b[0m data \u001b[38;5;241m=\u001b[39m MCM\u001b[38;5;241m.\u001b[39mload(\u001b[38;5;124m'\u001b[39m\u001b[38;5;124m./file/test-save-2024-02-01-12-41-25.json\u001b[39m\u001b[38;5;124m'\u001b[39m) \u001b[38;5;66;03m#从指定路径解析字典\u001b[39;00m\n\u001b[1;32m----> 5\u001b[0m MCM\u001b[38;5;241m.\u001b[39mprint(\u001b[43mdata\u001b[49m\u001b[43m[\u001b[49m\u001b[38;5;124;43m'\u001b[39;49m\u001b[38;5;124;43mdf\u001b[39;49m\u001b[38;5;124;43m'\u001b[39;49m\u001b[43m]\u001b[49m) \u001b[38;5;66;03m#同时输出到文件和输出流\u001b[39;00m\n",
      "\u001b[1;31mKeyError\u001b[0m: 'df'"
     ]
    }
   ],
   "source": [
    "MCM.no_warn() #这个函数用来把错误流重定向到文件而不是输出流，但它不会关闭这次自己的警告(\n",
    "import warnings\n",
    "warnings.warn(\"Warning\")\n",
    "data = MCM.load('./file/test-save-2024-02-01-12-41-25.json') #从指定路径解析字典\n",
    "MCM.print(data['df']) #同时输出到文件和输出流"
   ]
  }
 ],
 "metadata": {
  "kernelspec": {
   "display_name": "Python 3",
   "language": "python",
   "name": "python3"
  },
  "language_info": {
   "codemirror_mode": {
    "name": "ipython",
    "version": 3
   },
   "file_extension": ".py",
   "mimetype": "text/x-python",
   "name": "python",
   "nbconvert_exporter": "python",
   "pygments_lexer": "ipython3",
   "version": "3.9.13"
  },
  "orig_nbformat": 4
 },
 "nbformat": 4,
 "nbformat_minor": 2
}
